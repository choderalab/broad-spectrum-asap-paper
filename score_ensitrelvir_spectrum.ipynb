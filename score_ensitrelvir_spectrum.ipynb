{
 "cells": [
  {
   "cell_type": "markdown",
   "metadata": {},
   "source": [
    "# Example of running docking and scoring of ensitrelvir affinities in coronavirus targets"
   ]
  },
  {
   "cell_type": "code",
   "execution_count": 14,
   "metadata": {},
   "outputs": [],
   "source": [
    "# Load OpenEye license, required by the asapdiscovery package\n",
    "!export OE_LICENSE=$HOME/Documents/.openeye/oe_license.txt"
   ]
  },
  {
   "cell_type": "markdown",
   "metadata": {},
   "source": [
    "For this example, we will use a reference SARS-CoV-2 crystal in complex with ensitrelvir. The ligand will be docked into related coronavirus targets that infect humans. "
   ]
  },
  {
   "cell_type": "code",
   "execution_count": null,
   "metadata": {},
   "outputs": [],
   "source": [
    "ref_pdb = \"input_files/8dz0.pdb\""
   ]
  },
  {
   "cell_type": "markdown",
   "metadata": {},
   "source": [
    "## 1. Sequence alignment\n",
    "\n",
    "In this example, we perform a sequence-based search starting from a pdb file of SARS-CoV-2 in complex with Ensitrelvir (8dz0). This is done with `asap-spectrum seq-alignment` (See [documentation](https://asapdiscovery.readthedocs.io/en/latest/index.html) for instructions on how to use).\n",
    "\n",
    "The sequence search is done by invoking the NCBI BLAST server over the internet, and it will take longer everytime a job is placed for a given sequence. Therefore, we advise to run the sequence alignment job only once and save the BLAST output as a .xml file for future runs. Below we provide the command for an initial sequence alignment job, starting from a pdb file (uncomment to use).\n",
    "\n",
    "An email address is required the Entrez database system, which is used for retrieving information on viral hosts (for the filtering step of the alignment process). "
   ]
  },
  {
   "cell_type": "code",
   "execution_count": null,
   "metadata": {},
   "outputs": [],
   "source": [
    "#!asap-spectrum seq-alignment \\\n",
    "#        -f {ref_pdb} \\\n",
    "#        -t \"pdb\" \\\n",
    "#        --output-dir \"data/sars2_alignment\" \\\n",
    "#        --sel-key \"host: Homo sapiens OR organism: human\" \\\n",
    "#        --multimer --n-chains 2 \\\n",
    "#        --color-seq-match --plot-width 900 \\\n",
    "#        --max-mismatches 2 \\\n",
    "#        --email \"your_email.org\" # !! Replace with your email that will be used for Entrez (viral host search)"
   ]
  },
  {
   "cell_type": "markdown",
   "metadata": {},
   "source": [
    "By default, the results from the BLAST search above are saved as `results.xml`. We provide this file in the `data/` directory. **After replacing the email argument**, the run below will generate the necessary files for the rest of the pipeline, along with a html visualization of the alignment. "
   ]
  },
  {
   "cell_type": "code",
   "execution_count": null,
   "metadata": {},
   "outputs": [
    {
     "name": "stdout",
     "output_type": "stream",
     "text": [
      "A fasta file /Users/castelm3/Documents/Github/broad-spectrum-asap-paper/data/sars2_alignment/SARS-CoV-2-Mpro.fasta have been generated with the selected sequences\n",
      "A fasta file /Users/castelm3/Documents/Github/broad-spectrum-asap-paper/data/sars2_alignment/SARS-CoV-2-Mpro_alignment.fasta have been generated with the multi-seq alignment\n",
      "A csv file /Users/castelm3/Documents/Github/broad-spectrum-asap-paper/data/sars2_alignment/SARS-CoV-2-Mpro.csv have been generated with the selected sequences\n",
      "The multi-sequence alignment returns the following matches:\n",
      "none: 131/320\n",
      "group: 103/320\n",
      "exact: 86/320\n",
      "Aligning 8 sequences of lenght 320\n",
      "A html file /Users/castelm3/Documents/Github/broad-spectrum-asap-paper/data/sars2_alignment/SARS-CoV-2-Mpro_alignment.html have been generated with the aligned sequences\n"
     ]
    }
   ],
   "source": [
    "!asap-spectrum seq-alignment \\\n",
    "        -f \"data/results.xml\" \\\n",
    "        -t \"pre-calc\" \\\n",
    "        --output-dir \"data/sars2_alignment\" \\\n",
    "        --sel-key \"host: Homo sapiens OR organism: human\" \\\n",
    "        --multimer --n-chains 2 \\\n",
    "        --color-seq-match --plot-width 900 \\\n",
    "        --max-mismatches 2 \\\n",
    "        --email \"your_email.org\" # !! Replace with your email that will be used for Entrez (viral host search)"
   ]
  },
  {
   "cell_type": "markdown",
   "metadata": {},
   "source": [
    "## 2. ColabFold run to generate AlphaFold2 predicted models\n",
    "\n",
    "The next step is folding the filtered sequences using the AlphaFold2 multimer model. This step requires a local installation of ColabFold so we provide the output folder in the `data/` directory.\n",
    "\n",
    "An example script is included below:\n",
    "\n",
    "```bash\n",
    "#!/bin/bash\n",
    "ref_pdb=\"8dz0.pdb\"\n",
    "csv_fn=SARS-CoV-2-Mpro.csv\n",
    "template_dir=\"template_dir_apo\"\n",
    "out_dir=\"cf_results_human_CoV/\n",
    "\n",
    "mkdir $template_dir\n",
    "cp $ref_pdb $template_dir/0001.pdb\n",
    "\n",
    "module load colabfold/v1.5.2\n",
    "\n",
    "colabfold_batch $csv_fn $out_dir  \\\n",
    " --num-recycle 3 --num-models 3 --model-type \"alphafold2_multimer_v3\" \\\n",
    " --templates --custom-template-path $template_dir \\\n",
    "```\n"
   ]
  },
  {
   "cell_type": "markdown",
   "metadata": {},
   "source": [
    "## 2.1. Structure alignment of ColabFold results\n",
    "\n",
    "The next step is to extract the structures from the ColabFold run and align them to the reference target. The `asap-spectrum struct-alignment` module takes cares of this (see [documentation](https://asapdiscovery.readthedocs.io/en/latest/index.html) for instructions.)\n",
    "\n",
    "The command below generates a folder with the aligned ligand-less structures `aligned_structures/`."
   ]
  },
  {
   "cell_type": "code",
   "execution_count": 16,
   "metadata": {},
   "outputs": [
    {
     "name": "stdout",
     "output_type": "stream",
     "text": [
      "RMSD for seed 000 is 2.5291640282355132 A\n",
      "YP_009725295_1 seed with least RMSD is 000 with RMSD 2.5291640282355132 A\n",
      "RMSD for seed 000 is 2.7313637564401962 A\n",
      "YP_009944365_1 seed with least RMSD is 000 with RMSD 2.7313637564401962 A\n",
      "RMSD for seed 000 is 2.4801465873017134 A\n",
      "YP_009047217_1 seed with least RMSD is 000 with RMSD 2.4801465873017134 A\n",
      "RMSD for seed 000 is 2.3460594696310992 A\n",
      "YP_009944273_1 seed with least RMSD is 000 with RMSD 2.3460594696310992 A\n",
      "RMSD for seed 000 is 1.9467582184025503 A\n",
      "YP_009555250_1 seed with least RMSD is 000 with RMSD 1.9467582184025503 A\n",
      "RMSD for seed 000 is 1.8402437616490752 A\n",
      "NP_835346_1 seed with least RMSD is 000 with RMSD 1.8402437616490752 A\n",
      "RMSD for seed 000 is 2.0171923267210268 A\n",
      "YP_010229075_1 seed with least RMSD is 000 with RMSD 2.0171923267210268 A\n"
     ]
    }
   ],
   "source": [
    "!asap-spectrum struct-alignment \\\n",
    "        -f \"data/sars2_alignment/SARS-CoV-2-Mpro.csv\" \\\n",
    "        --pdb-file {ref_pdb} \\\n",
    "        --output-dir \"data/sars2_alignment/aligned_structures/\" \\\n",
    "        --cfold-results \"data/sars2_alignment/cf_results_human_CoV\"\\\n",
    "        --color-by-rmsd \\\n",
    "        --cf-format \"alphafold2_multimer_v3\" \\"
   ]
  },
  {
   "cell_type": "markdown",
   "metadata": {},
   "source": [
    "## 3. Ligand transfer docking"
   ]
  },
  {
   "cell_type": "markdown",
   "metadata": {},
   "source": [
    "The next step is to dock the ligand from the reference into the apo proteins. This is done by the `ligand-transfer-docking` command from `asapiscovery`. It takes the folder with aligned structures that we obtained in the previous step as an input, an will return the best pose of each target with the ligans in the reference protein, as well as a summary of the results in a csv file `docking_results_final.csv`. Refer to the `asapdiscovery` documentation for more information.\n",
    "\n",
    "It is advisable to prepare the proteins before running the docking to cap the termini and fill-in missing side chains. We provided a folder with 4 of the proteins from the previous step, prepared using Maestro. The command below will take a while to run. "
   ]
  },
  {
   "cell_type": "code",
   "execution_count": null,
   "metadata": {},
   "outputs": [],
   "source": [
    "docking_results_dir = \"data/transfer_docking_ensitrelvir\""
   ]
  },
  {
   "cell_type": "code",
   "execution_count": null,
   "metadata": {},
   "outputs": [],
   "source": [
    "!asap-docking ligand-transfer-docking \\\n",
    "        --target SARS-CoV-2-Mpro \\\n",
    "        --structure-dir \"data/sars2_alignment/aligned_structures_p/\" \\\n",
    "        --ref-pdb-file {ref_pdb} \\\n",
    "        --output-dir {docking_results_dir} \\\n",
    "        --allow-retries --use-omega --omega-dense --allow-final-clash \\\n",
    "        --posit-confidence-cutoff 0.0 \\"
   ]
  },
  {
   "cell_type": "markdown",
   "metadata": {},
   "source": [
    "## 4. MD refinement & Scoring of pose predictions \n",
    "Next, we refined the docking poses and score them. This is done by the `score_complexes.py` script included in the `scripts/` folder. The script takes a folder with the posed complexes as input, as well as the reference complex pdb.\n",
    "\n",
    "From the `ligand-transfer-docking` run above, we need the pdbs of the poses and the results file. We extract the pdb file into a directory `data/docked_ensitrelvir/`, using a bash script (provided in `scripts/`), and then we run the scoring."
   ]
  },
  {
   "cell_type": "code",
   "execution_count": null,
   "metadata": {},
   "outputs": [
    {
     "name": "stdout",
     "output_type": "stream",
     "text": [
      "mkdir: data/docked_ensitrelvir/: File exists\n",
      "file NP_835346_1\n",
      "Copied data/transfer_docking_ensitrelvir/docking_results/NP_835346_1_aligned-959df3d38dc535960bdaf7779d68e7117e7abdd77e5fb5edfb40700b81e09d92+QMPBBNUOBOFBFS-LBOYIXSDNA-N+QMPBBNUOBOFBFS-LBOYIXSDNA-N_8dz0_ligand-QMPBBNUOBOFBFS-LBOYIXSDNA-N/docked_complex_0.pdb to data/docked_ensitrelvir//NP_835346_1_docked.pdb\n",
      "file YP_009047217_1\n",
      "Copied data/transfer_docking_ensitrelvir/docking_results/YP_009047217_1_aligned-959df3d38dc535960bdaf7779d68e7117e7abdd77e5fb5edfb40700b81e09d92+QMPBBNUOBOFBFS-LBOYIXSDNA-N+QMPBBNUOBOFBFS-LBOYIXSDNA-N_8dz0_ligand-QMPBBNUOBOFBFS-LBOYIXSDNA-N/docked_complex_0.pdb to data/docked_ensitrelvir//YP_009047217_1_docked.pdb\n",
      "file YP_009725295_1\n",
      "Copied data/transfer_docking_ensitrelvir/docking_results/YP_009725295_1_aligned-959df3d38dc535960bdaf7779d68e7117e7abdd77e5fb5edfb40700b81e09d92+QMPBBNUOBOFBFS-LBOYIXSDNA-N+QMPBBNUOBOFBFS-LBOYIXSDNA-N_8dz0_ligand-QMPBBNUOBOFBFS-LBOYIXSDNA-N/docked_complex_0.pdb to data/docked_ensitrelvir//YP_009725295_1_docked.pdb\n",
      "file YP_009944365_1\n",
      "Copied data/transfer_docking_ensitrelvir/docking_results/YP_009944365_1_aligned-959df3d38dc535960bdaf7779d68e7117e7abdd77e5fb5edfb40700b81e09d92+QMPBBNUOBOFBFS-LBOYIXSDNA-N+QMPBBNUOBOFBFS-LBOYIXSDNA-N_8dz0_ligand-QMPBBNUOBOFBFS-LBOYIXSDNA-N/docked_complex_0.pdb to data/docked_ensitrelvir//YP_009944365_1_docked.pdb\n"
     ]
    }
   ],
   "source": [
    "# Extract pdbs from ligand-ransfer-docking directory\n",
    "protein_regex = \"'YP_[0-9]+_[0-9]+|NP_[0-9]+_[0-9]+'\" # pattern that matches the name of the targets\n",
    "docked_dir = \"data/docked_ensitrelvir/\"\n",
    "\n",
    "!bash \"scripts/copy_posed_pdbs.sh\" {docking_results_dir} {docked_dir} {protein_regex}\n"
   ]
  },
  {
   "cell_type": "markdown",
   "metadata": {},
   "source": [
    "In this example run, we will minimize the pdbs to refine the docked poses first, and then we wil do the scoring. The script below will generate a ChemGauss4 score, ML scores (SchNet, E3NN and GAT), Ligand RMSD and AutoDock Vina score. To generate gnina scores the `--gnina-score` command can be used, along with a script to run gnina via  `--gnina-script` and a directory to save the intermediate files in `--home-dir`. A couple of examples gnina scripts are provided in `scripts/`, but a working insatallation of gnina is needed. "
   ]
  },
  {
   "cell_type": "code",
   "execution_count": null,
   "metadata": {},
   "outputs": [],
   "source": [
    "!python3.10 \"scripts/score_complexes.py\" \\\n",
    "        -f {ref_pdb} \\\n",
    "        -d {docked_dir} \\\n",
    "        -o \"ensitrelvir_scores.csv\" \\\n",
    "        --docking-csv {docking_results_dir}/data_intermediates/docking_scores_filtered_sorted.csv \\\n",
    "        --comp-name SARS --target-name SARS-CoV-2-Mpro \\\n",
    "        --protein-regex {protein_regex} \\\n",
    "        --minimize \\\n",
    "        --vina-score --ml-score \\\n",
    "        --path-to-grid-prep \"scripts/\" \\\n",
    "        --chain-dock \"A\" --chain-ref \"A\" \\\n",
    "        --log-level debug \\"
   ]
  },
  {
   "cell_type": "markdown",
   "metadata": {},
   "source": [
    "## Plotting the results"
   ]
  },
  {
   "cell_type": "markdown",
   "metadata": {},
   "source": []
  }
 ],
 "metadata": {
  "kernelspec": {
   "display_name": "asapdiscovery-vina",
   "language": "python",
   "name": "python3"
  },
  "language_info": {
   "codemirror_mode": {
    "name": "ipython",
    "version": 3
   },
   "file_extension": ".py",
   "mimetype": "text/x-python",
   "name": "python",
   "nbconvert_exporter": "python",
   "pygments_lexer": "ipython3",
   "version": "3.10.13"
  }
 },
 "nbformat": 4,
 "nbformat_minor": 2
}
